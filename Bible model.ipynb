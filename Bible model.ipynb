{
 "cells": [
  {
   "cell_type": "code",
   "execution_count": 2,
   "metadata": {
    "collapsed": true
   },
   "outputs": [],
   "source": [
    "import numpy as np\n",
    "import tensorflow as tf"
   ]
  },
  {
   "cell_type": "code",
   "execution_count": 3,
   "metadata": {
    "collapsed": true
   },
   "outputs": [],
   "source": [
    "def token_lookup():\n",
    "    \"\"\"\n",
    "    Generate a dict to map punctuation into a token\n",
    "    :return: dictionary mapping puncuation to token\n",
    "    \"\"\"\n",
    "    return {\n",
    "        '.': '||period||',\n",
    "        ',': '||comma||',\n",
    "        '\"': '||quotes||',\n",
    "        ';': '||semicolon||',\n",
    "        '!': '||exclamation-mark||',\n",
    "        '?': '||question-mark||',\n",
    "        '(': '||left-parentheses||',\n",
    "        ')': '||right-parentheses||',\n",
    "        '--': '||emm-dash||',\n",
    "        '\\n': '||return||'\n",
    "        \n",
    "    }\n"
   ]
  },
  {
   "cell_type": "code",
   "execution_count": 4,
   "metadata": {
    "collapsed": true
   },
   "outputs": [],
   "source": [
    "num_epochs = 10000\n",
    "batch_size = 512\n",
    "rnn_size = 512\n",
    "num_layers = 3\n",
    "keep_prob = 0.7\n",
    "embed_dim = 512\n",
    "seq_length = 30\n",
    "learning_rate = 0.001\n",
    "save_dir = './save'"
   ]
  },
  {
   "cell_type": "code",
   "execution_count": 5,
   "metadata": {
    "collapsed": true
   },
   "outputs": [],
   "source": [
    "import tensorflow as tf\n",
    "import numpy as np\n",
    "import pickle\n",
    "\n",
    "corpus_int, vocab_to_int, int_to_vocab, token_dict = pickle.load(open('preprocess.p', mode='rb'))\n",
    "seq_length, save_dir = pickle.load(open('params.p', mode='rb'))\n"
   ]
  },
  {
   "cell_type": "code",
   "execution_count": 6,
   "metadata": {
    "collapsed": true
   },
   "outputs": [],
   "source": [
    "def pick_word(probabilities, int_to_vocab):\n",
    "    \"\"\"\n",
    "    Pick the next word with some randomness\n",
    "    :param probabilities: Probabilites of the next word\n",
    "    :param int_to_vocab: Dictionary of word ids as the keys and words as the values\n",
    "    :return: String of the predicted word\n",
    "    \"\"\"\n",
    "    return np.random.choice(list(int_to_vocab.values()), 1, p=probabilities)[0]\n"
   ]
  },
  {
   "cell_type": "code",
   "execution_count": 7,
   "metadata": {
    "collapsed": true,
    "scrolled": false
   },
   "outputs": [],
   "source": [
    "def generate_chapter(l, p):\n",
    "\n",
    "    gen_length = l\n",
    "    prime_words = p\n",
    "\n",
    "    loaded_graph = tf.Graph()\n",
    "    with tf.Session(graph=loaded_graph) as sess:\n",
    "        # Load the saved model\n",
    "        loader = tf.train.import_meta_graph(save_dir + '.meta')\n",
    "        loader.restore(sess, save_dir)\n",
    "\n",
    "        # Get tensors from loaded graph\n",
    "        input_text = loaded_graph.get_tensor_by_name('input:0')\n",
    "        initial_state = loaded_graph.get_tensor_by_name('initial_state:0')\n",
    "        final_state = loaded_graph.get_tensor_by_name('final_state:0')\n",
    "        probs = loaded_graph.get_tensor_by_name('probs:0')\n",
    "\n",
    "        # Sentences generation setup\n",
    "        gen_sentences = prime_words.split()\n",
    "        prev_state = sess.run(initial_state, {input_text: np.array([[1 for word in gen_sentences]])})\n",
    "\n",
    "        # Generate sentences\n",
    "        for n in range(gen_length):\n",
    "            # Dynamic Input\n",
    "            dyn_input = [[vocab_to_int[word] for word in gen_sentences[-seq_length:]]]\n",
    "            dyn_seq_length = len(dyn_input[0])\n",
    "\n",
    "            # Get Prediction\n",
    "            probabilities, prev_state = sess.run(\n",
    "                [probs, final_state],\n",
    "                {input_text: dyn_input, initial_state: prev_state})\n",
    "            probabilities = probabilities[0]\n",
    "\n",
    "            pred_word = pick_word(probabilities[dyn_seq_length-1], int_to_vocab)\n",
    "\n",
    "            gen_sentences.append(pred_word)\n",
    "\n",
    "        # Remove tokens\n",
    "        chapter_text = ' '.join(gen_sentences)\n",
    "        for key, token in token_dict.items():\n",
    "            chapter_text = chapter_text.replace(' ' + token.lower(), key)\n",
    "        \n",
    "        chapter_text = ' '.join(gen_sentences)\n",
    "        for key, token in token_dict.items():\n",
    "            chapter_text = chapter_text.replace(' ' + token.lower(), key)\n",
    "        chapter_text = chapter_text.replace('\\n ', '\\n')\n",
    "        chapter_text = chapter_text.replace('( ', '(')\n",
    "        chapter_text = chapter_text.replace(' ”', '”')\n",
    "\n",
    "        capitalize_words = ['jesus','god','lord','christ','john','matthew','luke','mark',\n",
    "                            'holy','ghost','moses','pharaoh','king','law','goliath','lebanon',\n",
    "                            'horonaim','israel','jerusalem','levites','levite','david','ahab',\n",
    "                            'joshua','esaias','ammon','jews','judah','babylon','benjamin',\n",
    "                            'zion','i ','isaiah','amoz','abraham']\n",
    "\n",
    "        for word in capitalize_words:\n",
    "            chapter_text = chapter_text.replace(word, word.lower().title())\n",
    "        \n",
    "        return chapter_text\n",
    "\n",
    "#         print(chapter_text)"
   ]
  },
  {
   "cell_type": "code",
   "execution_count": 11,
   "metadata": {},
   "outputs": [
    {
     "name": "stdout",
     "output_type": "stream",
     "text": [
      "INFO:tensorflow:Restoring parameters from ./save\n"
     ]
    },
    {
     "data": {
      "text/plain": [
       "\"my Lord made the iniquity of the sin, and worship the word of God, and acceptable for the hope of these God. for he shall fly upon the Holy and, that I will not take a man in his ears, and shall rest. assemble of them, and come to watch of the King's word, and to live through the Lord: so he shall serve him in his sight. the judge in silver and the blood [shall be consecrated, and the crown of his brethren died, for the enemy taketh, even psalm armed her chariots in the camels, and [that] which die who fell at every time in that he knew him. and jonathan answered the Lord, saying, this [is] my rest, rightly whom my midwife said in a truth, ye know not these words, and God: I shall consume him in the dungeon; and there [are] all great world in the land of egypt effect by the imagination of their doings from sidon. behold, that passeth from every man of the rock, because [it is] a way for war, ye also shall bear an inheritance. o this man; ye shall sing to thy children from every province which I gave thee, the nations: and we shall sacrifice thy burnt offerings, to take unto us the seven cities which shall be proclaimed, even one to wave at whatsoever a man understand, and whom have three lie in my sight. then they called them roughly, and spake of him, saying, Jerusalem, son of dreams, whether us will get righteousness unto you, bless yourselves with all your doings. and this [shall be] a sign unto thee, but empty for my word, and stablished to your pardon. one weeks shall be done unto thee, and by the power of manasseh:, and of all ishmael the daughter of Ammon, the son of bondmen, and their Gods. and the Lord said again, ye have sinned against Judah, in lying Holy [place] at even the mountains of Israel: they have eaten both of thee and even with thee, and thy houses with me which is prepared for me. o thee, [it is] peace, though thou hast able to destroy all the Kings of the enemy. for all the heart of men shall despise your reproach. all the males shall thou hast founded the earth; and thou God of all wicked [city, ] my belly out to the grave. I both roar also like a potsherd, and my tongue hath spoiled my master's earth. come he saw upon the way of God; so [that] the fiery bow and go into his place. now say, I have pity\""
      ]
     },
     "execution_count": 11,
     "metadata": {},
     "output_type": "execute_result"
    }
   ],
   "source": [
    "chapter_text = generate_chapter(500, 'my')\n",
    "\n",
    "chapter_text"
   ]
  },
  {
   "cell_type": "code",
   "execution_count": null,
   "metadata": {
    "collapsed": true
   },
   "outputs": [],
   "source": [
    "import os\n",
    "version_dir = './generated-book-v1'\n",
    "if not os.path.exists(version_dir):\n",
    "    os.makedirs(version_dir)\n",
    "\n",
    "num_chapters = len([name for name in os.listdir(version_dir) if os.path.isfile(os.path.join(version_dir, name))])\n",
    "next_chapter = version_dir + '/chapter-' + str(num_chapters + 1) + '.md'\n",
    "with open(next_chapter, \"w\") as text_file:\n",
    "    text_file.write(chapter_text)"
   ]
  }
 ],
 "metadata": {
  "kernelspec": {
   "display_name": "Python 3",
   "language": "python",
   "name": "python3"
  },
  "language_info": {
   "codemirror_mode": {
    "name": "ipython",
    "version": 3
   },
   "file_extension": ".py",
   "mimetype": "text/x-python",
   "name": "python",
   "nbconvert_exporter": "python",
   "pygments_lexer": "ipython3",
   "version": "3.6.2"
  }
 },
 "nbformat": 4,
 "nbformat_minor": 2
}
